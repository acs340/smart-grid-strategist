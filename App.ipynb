{
 "cells": [
  {
   "cell_type": "markdown",
   "id": "cf78baf6",
   "metadata": {},
   "source": [
    "# App\n",
    "---\n",
    "Diese Anwendung dient als Forschungsgrundlage für die Untersuchung des Potenzials dynamischer Stromtarife für Haushalte. Ziel der Studie ist es, zu analysieren, inwieweit Haushalte von dynamischen Stromtarifen profitieren können.\n",
    "\n",
    "Die Forschungsmethode zur Analyse des Potenzials dynamischer Stromtarife basiert auf Simulationen des Stromverbrauchs von Haushalten über einen bestimmten Zeitraum. Diese Anwendung ermöglicht sowohl die Durchführung von Simulationen über den Stromverbrauch als auch die Analyse dieser Simulationen mithilfe von Grafiken."
   ]
  },
  {
   "cell_type": "code",
   "execution_count": null,
   "id": "2485f99a",
   "metadata": {},
   "outputs": [],
   "source": [
    "# Zum Starten der Anwendung führen Sie diese Zelle aus.\n",
    "import os\n",
    "\n",
    "def run_etl_process():\n",
    "    if not os.path.exists(\"Output-Data/ETL-Prozess_Ergebnisse.xlsx\"):\n",
    "        %run \"ETL-Prozess/ETL_Standardlastprofil.ipynb\"\n",
    "        %run \"ETL-Prozess/ETL_PV-Ertrag.ipynb\"\n",
    "        %run \"ETL-Prozess/ETL_Stromboerse.ipynb\"\n",
    "        run_ETL_Standardlastprofil()\n",
    "        run_ETL_PV_Ertrag()\n",
    "        run_ETL_Stromboerse()\n",
    "\n",
    "def run_simulations_app():\n",
    "    %run \"Simulations-App/Simulations-App.ipynb\"\n",
    "    run_simulations_app()\n",
    "\n",
    "def main():\n",
    "    run_etl_process()\n",
    "    run_simulations_app()\n",
    "\n",
    "if __name__ == \"__main__\":\n",
    "    main()"
   ]
  },
  {
   "cell_type": "markdown",
   "id": "99be0ac2",
   "metadata": {},
   "source": [
    "# Funktionsweise des Programms\n",
    "---\n",
    "Das Programm besteht aus vier Modulen:\n",
    "\n",
    "1. `Datenquelle`:  Das Datenquellenmodul enthält Dateien aus den Datenbanken \"Hamburger Stromnetz\", \"PVGIS\", \"DWD\" und \"SMARD\".\n",
    "\n",
    "\n",
    "2. `ETL-Prozess`: Dieses Modul ist für das Extrahieren, Transformieren und Laden von Daten aus dem Datenquellenmodul zuständig. Nach dem ETL-Prozess dienen die verarbeiteten Daten als Referenzparameter für die Simulationen.\n",
    "\n",
    "\n",
    "3. `Simulations-App`: In diesem Modul werden die im ETL-Prozess verarbeiteten Daten übertragen und für die Simulationen verwendet. Die Simulations-App ermöglicht es dem Nutzer, einige Parameter einzustellen, die die Simulationsergebnisse beeinflussen, wie z. B. den jährlichen Stromverbrauch eines Haushalts und die kWp einer PV-Anlage. Die Simulationsergebnisse werden an die nächste Phase zur Analyse weitergeleitet.\n",
    "\n",
    "\n",
    "4. `Analyse`: Dieses Modul generiert verschiedene Charts mit den Simulationsdaten, mit denen der Nutzer die Simulationsergebnisse besser analysieren und bewerten kann.\n",
    "\n",
    "<h1 align=\"center\">\n",
    "  <img src=\"/Bilder/App-Module.png\" alt=\"App-Module.png\">\n",
    "</h1>"
   ]
  },
  {
   "cell_type": "markdown",
   "id": "085490ff",
   "metadata": {},
   "source": [
    "# Simulationsszenarien\n",
    "---\n",
    "Die Simulationen umfassen drei Kategorien von Letztverbrauchern:\n",
    "\n",
    "1. `Consumers`: Traditionelle Stromverbraucher, die Strom aus dem Netz abnehmen.\n",
    "\n",
    "<h1 align=\"center\">\n",
    "  <img src=\"./Bilder/Consumer.png\" alt=\"Consumer.png\">\n",
    "</h1>\n",
    "\n",
    "2. `Prosumers`: Stromverbraucher, die gleichzeitig Strom erzeugen und verbrauchen. In den Forschungsszenarien ist diese Kategorie mit Photovoltaikanlagen und ohne Batterien ausgestattet. Das heißt, ohne die Möglichkeit, Strom zu speichern.\n",
    "\n",
    "<h1 align=\"center\">\n",
    "  <img src=\"./Bilder/Prosumer.png\" alt=\"Prosumer.png\">\n",
    "</h1>\n",
    "    \n",
    "3. `Flexumers`: Stromverbraucher, die gleichzeitig Strom erzeugen und verbrauchen. In den Forschungsszenarien ist diese Kategorie mit Photovoltaikanlagen und Batterien ausgestattet. Das heißt, mit der Möglichkeit, Strom zu speichern. Diese Kategorie ist außerdem mit zwei Stromverbrauchskomponenten ausgestattet, die über ein Überwachungssystem gesteuert werden können.\n",
    "\n",
    "<h1 align=\"center\">\n",
    "  <img src=\"./Bilder/Flexumer.png\" alt=\"Flexumer.png\">\n",
    "</h1>"
   ]
  }
 ],
 "metadata": {
  "kernelspec": {
   "display_name": "Python 3 (ipykernel)",
   "language": "python",
   "name": "python3"
  },
  "language_info": {
   "codemirror_mode": {
    "name": "ipython",
    "version": 3
   },
   "file_extension": ".py",
   "mimetype": "text/x-python",
   "name": "python",
   "nbconvert_exporter": "python",
   "pygments_lexer": "ipython3",
   "version": "3.9.7"
  }
 },
 "nbformat": 4,
 "nbformat_minor": 5
}
