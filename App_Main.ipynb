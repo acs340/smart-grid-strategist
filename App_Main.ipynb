{
 "cells": [
  {
   "cell_type": "markdown",
   "id": "cf78baf6",
   "metadata": {},
   "source": [
    "# App\n",
    "---\n",
    "Diese Anwendung dient als Forschungsgrundlage für die Untersuchung des Potenzials dynamischer Stromtarife in Kombination mit Home Energy Management Systems (HEMS) für Haushalte. Ziel der Studie ist es, zu analysieren, inwieweit Haushalte von dynamischen Stromtarifen profitieren können.\n",
    "\n",
    "Die Forschungsmethode zur Analyse des Potenzials dynamischer Stromtarife in Kombination mit Home Energy Management Systems (HEMS) basiert auf Simulationen des Stromverbrauchs von Haushalten über einen bestimmten Zeitraum."
   ]
  },
  {
   "cell_type": "markdown",
   "id": "99be0ac2",
   "metadata": {},
   "source": [
    "# Funktionsweise des Programms\n",
    "---\n",
    "Das Programm besteht aus drei Modulen:\n",
    "\n",
    "1. `ETL-Prozess`: Dieses Modul ist für das Extrahieren, Transformieren und Laden von Daten aus verschiedenen Quellen zuständig. Die Datenquelle enthält Dateien aus den Datenbanken \"Hamburger Stromnetz\", \"PVGIS\", \"DWD\" und \"SMARD\". Nach dem ETL-Prozess dienen die verarbeiteten Daten als Referenzparameter für die Simulationen.\n",
    "\n",
    "\n",
    "2. `Simulations-App`: In diesem Modul werden die im ETL-Prozess verarbeiteten Daten übertragen und für die Simulationen verwendet. Die Simulations-App ermöglicht es dem Nutzer, einige Parameter einzustellen, die die Simulationsergebnisse beeinflussen, wie z. B. den jährlichen Stromverbrauch eines Haushalts oder die kWp einer PV-Anlage. Die Simulationsergebnisse werden an die nächste Phase zur Analyse weitergeleitet.\n",
    "\n",
    "\n",
    "3. `Analyse`: Dieses Modul generiert verschiedene Charts mit den Simulationsdaten, mit denen der Nutzer die Simulationsergebnisse besser analysieren und bewerten kann."
   ]
  },
  {
   "cell_type": "markdown",
   "id": "74b05c20",
   "metadata": {},
   "source": [
    "![App-Module.png](App-Module.png)"
   ]
  },
  {
   "cell_type": "markdown",
   "id": "085490ff",
   "metadata": {},
   "source": [
    "# Simulationsszenarien\n",
    "---\n",
    "- In den Forschungsszenarien sind alle Haushalte mit HEMS und dynamischen Tarifen ausgestattet.\n",
    "- Die Simulationen umfassen drei Kategorien von Letztverbrauchern:\n",
    "    1. `Consumers`: Traditionelle Stromverbraucher, die Strom aus dem Netz abnehmen.\n",
    "\n",
    "    ![Consumer.png](Bilder/Consumer.png)    \n",
    "\n",
    "    2. `Prosumers`: Stromverbraucher, die gleichzeitig Strom erzeugen und verbrauchen. In den Forschungsszenarien ist diese Kategorie mit Photovoltaikanlagen und ohne Batterien ausgestattet. Das heißt, ohne die Möglichkeit, Strom zu speichern.\n",
    "\n",
    "    ![Prosumer.png](Bilder/Prosumer.png)\n",
    "    \n",
    "    3. `Flexumers`: Stromverbraucher, die gleichzeitig Strom erzeugen und verbrauchen. In den Forschungsszenarien ist diese Kategorie mit Photovoltaikanlagen und Batterien ausgestattet. Das heißt, mit der Möglichkeit, Strom zu speichern. Diese Kategorie ist außerdem mit zwei Stromverbrauchskomponenten ausgestattet, die über ein Überwachungssystem gesteuert werden können.\n",
    "\n",
    "    ![Flexumer.png](Bilder/Flexumer.png)"
   ]
  },
  {
   "cell_type": "code",
   "execution_count": 1,
   "id": "6f490d1d",
   "metadata": {},
   "outputs": [],
   "source": [
    "def run_etl_process():\n",
    "    %run \"ETL-Prozess/ETL_Standardlastprofil.ipynb\"\n",
    "    %run \"ETL-Prozess/ETL_PV-Ertrag.ipynb\"\n",
    "    %run \"ETL-Prozess/ETL_Stromboerse.ipynb\"\n",
    "    run_ETL_Standardlastprofil()\n",
    "    run_ETL_PV_Ertrag()\n",
    "    run_ETL_Stromboerse()"
   ]
  },
  {
   "cell_type": "code",
   "execution_count": 2,
   "id": "3b98b6e2",
   "metadata": {
    "scrolled": true
   },
   "outputs": [
    {
     "name": "stdout",
     "output_type": "stream",
     "text": [
      "- ETL-Prozess_Standardlastprofil: Aufgabe 1/1 erledigt\n",
      "- ETL-Prozess_PV-Ertrag: Aufgabe 1/4 abgeschlossen\n",
      "- ETL-Prozess_PV-Ertrag: Aufgabe 2/4 abgeschlossen\n",
      "- ETL-Prozess_PV-Ertrag: Aufgabe 3/4 abgeschlossen\n",
      "- ETL-Prozess_PV-Ertrag: Aufgabe 4/4 abgeschlossen\n",
      "- ETL-Prozess_Strombörse: Aufgabe 1/1 erledigt\n"
     ]
    }
   ],
   "source": [
    "run_etl_process()"
   ]
  },
  {
   "cell_type": "code",
   "execution_count": 3,
   "id": "0ed331e2",
   "metadata": {},
   "outputs": [],
   "source": [
    "def run_simulations_app():\n",
    "    %run \"Simulations-App/Simulations-App.ipynb\"\n",
    "    run_simulations_app()"
   ]
  },
  {
   "cell_type": "code",
   "execution_count": 4,
   "id": "26f3d45b",
   "metadata": {
    "scrolled": true
   },
   "outputs": [
    {
     "data": {
      "text/html": [
       "\n",
       "        <iframe\n",
       "            width=\"100%\"\n",
       "            height=\"650\"\n",
       "            src=\"http://127.0.0.1:8050/\"\n",
       "            frameborder=\"0\"\n",
       "            allowfullscreen\n",
       "            \n",
       "        ></iframe>\n",
       "        "
      ],
      "text/plain": [
       "<IPython.lib.display.IFrame at 0x7fb0f55323a0>"
      ]
     },
     "metadata": {},
     "output_type": "display_data"
    },
    {
     "name": "stdout",
     "output_type": "stream",
     "text": [
      "Fehler bei der Simulation der Batterienutzung: 'Stromerzeugung [kWh]'\n"
     ]
    }
   ],
   "source": [
    "run_simulations_app()"
   ]
  },
  {
   "cell_type": "code",
   "execution_count": null,
   "id": "9edc7167",
   "metadata": {},
   "outputs": [],
   "source": []
  }
 ],
 "metadata": {
  "kernelspec": {
   "display_name": "Python 3 (ipykernel)",
   "language": "python",
   "name": "python3"
  },
  "language_info": {
   "codemirror_mode": {
    "name": "ipython",
    "version": 3
   },
   "file_extension": ".py",
   "mimetype": "text/x-python",
   "name": "python",
   "nbconvert_exporter": "python",
   "pygments_lexer": "ipython3",
   "version": "3.9.7"
  }
 },
 "nbformat": 4,
 "nbformat_minor": 5
}
