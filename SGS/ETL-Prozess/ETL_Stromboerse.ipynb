{
 "cells": [
  {
   "cell_type": "markdown",
   "id": "e4b29240",
   "metadata": {},
   "source": [
    "# ETL: Strombörse\n",
    "---\n",
    "Diese Komponente ist für das Extrahieren, Transformieren und Laden von Daten aus der Quelle [SMARD](https://www.smard.de/home/downloadcenter/download-marktdaten/?downloadAttributes=%7B%22selectedCategory%22:3,%22selectedSubCategory%22:8,%22selectedRegion%22:%22DE%22,%22selectedFileType%22:%22XLSX%22,%22from%22:1672527600000,%22to%22:1704063599999%7D) zuständig. Die Komponente verarbeitet eine Quelldatei, die die auf dem Day-Ahead-Markt ([EPEX SPOT](https://www.epexspot.com/en/market-data?market_area=DE-LU&trading_date=2024-03-31&delivery_date=2024-04-01&underlying_year=&modality=Auction&sub_modality=DayAhead&technology=&product=60&data_mode=graph&period=&production_period=)) festgelegten Strompreise darstellt."
   ]
  },
  {
   "cell_type": "markdown",
   "id": "d26296f8",
   "metadata": {},
   "source": [
    "# Funktionsweise des Prozesses\n",
    "---\n",
    "In diesem Prozess werden die folgenden Funktionen verwendet:\n",
    "\n",
    "\n",
    "\n",
    "1. `extraction_and_processing_dataset_SMARD()`: Diese Funktion extrahiert aus einer Quelldatei die Marktdaten zu den Großhandelsstrompreisen für das Jahr 2023. Diese Daten stellen die Strompreise dar, die auf dem Day-Ahead-Markt in 15-Minuten-Intervallen festgelegt werden.\n",
    "\n",
    "\n",
    "2. `run_ETL_Stromboerse()`: Funktion zur Ausführung des Prozesses.\n",
    "\n"
   ]
  },
  {
   "cell_type": "code",
   "execution_count": 16,
   "id": "952ffb86",
   "metadata": {},
   "outputs": [],
   "source": [
    "import openpyxl\n",
    "import os\n",
    "\n",
    "def extraction_and_processing_dataset_SMARD():\n",
    "    try:\n",
    "        # Definition der Pfade für die Eingabe- und Ausgabedateien\n",
    "        input_folder = \"Datenquelle/SMARD-Daten/Viertelstunde\"\n",
    "        input_file = \"Gro_handelspreise_202301010000_202312312359_Viertelstunde.xlsx\"\n",
    "        input_path = os.path.join(input_folder, input_file)\n",
    "        \n",
    "        output_folder = \"Output-Data\"\n",
    "        output_file = \"ETL-Prozess_Ergebnisse.xlsx\"  # Änderung des Ausgabedateinamens\n",
    "        output_path = os.path.join(output_folder, output_file)\n",
    "        \n",
    "        # Öffnen der Excel-Datei\n",
    "        workbook = openpyxl.load_workbook(input_path)\n",
    "\n",
    "        # Öffnen des gewünschten Blatts\n",
    "        sheet = workbook[\"Großhandelspreise\"]\n",
    "\n",
    "        # Öffnen der Zieltabelle (Simulationsparameter) im Ergebnis-Excel\n",
    "        try:\n",
    "            new_workbook = openpyxl.load_workbook(output_path)\n",
    "        except FileNotFoundError:\n",
    "            new_workbook = openpyxl.Workbook()\n",
    "\n",
    "        new_sheet = new_workbook[\"Simulationsparameter\"] if \"Simulationsparameter\" in new_workbook.sheetnames else new_workbook.active\n",
    "        \n",
    "        # Kopieren der Daten in die Spalte L der Zieltabelle ab der Zeile 1\n",
    "        end_row = sheet.max_row\n",
    "        column_to_copy = 4\n",
    "\n",
    "        for row in range(2, end_row + 1):\n",
    "            # Kopieren des Werts von Spalte L (12) zur Spalte M (13) und Teilen durch 1000\n",
    "            value_to_copy = sheet.cell(row=row+9, column=column_to_copy).value\n",
    "            new_sheet.cell(row=row, column=12).value = value_to_copy\n",
    "            \n",
    "            if value_to_copy is not None:\n",
    "                new_sheet.cell(row=row, column=13).value = value_to_copy / 1000  # Wert in Spalte M (13) teilen durch 1000\n",
    "\n",
    "        # Setzen des Headers\n",
    "        new_sheet['L1'] = 'Strommarktpreis [€/MWh]'\n",
    "        new_sheet['M1'] = 'Strommarktpreis [€/kWh]'\n",
    "        \n",
    "        # Speichern der neuen Excel-Datei\n",
    "        new_workbook.save(output_path)\n",
    "\n",
    "        print(\"- ETL-Prozess_Strombörse: Aufgabe 1/1 erledigt\")\n",
    "    except Exception as e:\n",
    "        print(\"Ein Fehler ist aufgetreten:\", e)\n"
   ]
  },
  {
   "cell_type": "code",
   "execution_count": 17,
   "id": "5ba0f85e",
   "metadata": {
    "scrolled": true
   },
   "outputs": [],
   "source": [
    "def run_ETL_Stromboerse():\n",
    "    extraction_and_processing_dataset_SMARD()"
   ]
  }
 ],
 "metadata": {
  "kernelspec": {
   "display_name": "Python 3 (ipykernel)",
   "language": "python",
   "name": "python3"
  },
  "language_info": {
   "codemirror_mode": {
    "name": "ipython",
    "version": 3
   },
   "file_extension": ".py",
   "mimetype": "text/x-python",
   "name": "python",
   "nbconvert_exporter": "python",
   "pygments_lexer": "ipython3",
   "version": "3.9.7"
  }
 },
 "nbformat": 4,
 "nbformat_minor": 5
}
