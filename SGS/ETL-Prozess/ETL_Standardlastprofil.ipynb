{
 "cells": [
  {
   "cell_type": "markdown",
   "id": "6661eab4",
   "metadata": {},
   "source": [
    "# ETL-Prozess: Standardlastprofil\n",
    "---\n",
    "Diese Komponente ist für das Extrahieren, Transformieren und Laden von Daten aus der Quelle [Stromnetz Hamburg](https://www.stromnetz-hamburg.de/fuer-partner/stromlieferanten/zaehlverfahren) zuständig. Die Komponente verarbeitet eine Quelldatei, die ein [synthetisches Standardlastprofil](https://www.enargus.de/pub/bscw.cgi/d12072-2/*/*/Standardlastprofil.html?op=Wiki.getwiki#:~:text=Das%20synthetische%20Lastprofilverfahren%20stellt%20eine,gewichtet%20und%20anschließend%20aufsummiert%20werden.) darstellt."
   ]
  },
  {
   "cell_type": "markdown",
   "id": "56e22681",
   "metadata": {},
   "source": [
    "# Funktionsweise des Prozesses\n",
    "---\n",
    "In diesem Prozess werden die folgenden Funktionen verwendet:\n",
    "\n",
    "1. `extraction_and_processing_dataset_Stromnetz_Hamburg()`: Die Funktion extrahiert die Daten aus einer [Quelldatei](https://filehub.admiralcloud.com/v5/deliverFile/76eee0f0-6112-4ca5-8f39-96d53f5871b8?download=true) und berechnet die Basisprozentwerte, die als Referenzwerte in den Simulationen zu verwenden sind.\n",
    "\n",
    "\n",
    "2. `run_ETL_Standardlastprofil()`: Funktion zur Ausführung des Prozesses.\n",
    "\n"
   ]
  },
  {
   "cell_type": "markdown",
   "id": "05f56d13",
   "metadata": {},
   "source": [
    "# Quellcode der Funktionen\n",
    "---\n",
    "Hier befindet sich der Code für die Funktionen, die im Abschnitt \"Funktionsweise des Prozesses\" beschrieben sind."
   ]
  },
  {
   "cell_type": "code",
   "execution_count": 4,
   "id": "95c1bfbe",
   "metadata": {
    "scrolled": true
   },
   "outputs": [],
   "source": [
    "import openpyxl\n",
    "import os\n",
    "from openpyxl.styles import Font\n",
    "from datetime import datetime, timedelta\n",
    "\n",
    "output_folder = \"Output-Data\"\n",
    "\n",
    "def extraction_and_processing_dataset_Stromnetz_Hamburg():\n",
    "    try:\n",
    "        # Definition der Pfade für die Eingabe- und Ausgabedateien\n",
    "        input_folder = \"Datenquelle/Stromnetz Hamburg-Daten\"\n",
    "        input_file = \"Standardlastprofil Haushalt 2023.xlsx\"\n",
    "        input_path = os.path.join(input_folder, input_file)\n",
    "        output_file = \"ETL-Prozess_Ergebnisse.xlsx\"\n",
    "        output_path = os.path.join(output_folder, output_file)\n",
    "        \n",
    "        # Öffnen der Excel-Datei\n",
    "        workbook = openpyxl.load_workbook(input_path)\n",
    "        \n",
    "        # Öffnen des gewünschten Arbeitsblatts\n",
    "        sheet = workbook[\"Stromnetz Hamburg\"]\n",
    "        \n",
    "        # Berechnung des gesamten Verbrauchs in kWh (Spalte C)\n",
    "        gesamtverbrauch_kWh = sum(sheet[f\"C{row}\"].value for row in range(2, sheet.max_row + 1) if sheet[f\"C{row}\"].value is not None)\n",
    "        \n",
    "        # Hinzufügen einer neuen Spalte für den prozentualen Basiswert\n",
    "        sheet[\"D1\"].value = \"SLP-Basisprozentwert\"\n",
    "        \n",
    "        # Berechnung des prozentualen Werts und Eintrag in die neue Spalte\n",
    "        for row in range(2, sheet.max_row + 1):\n",
    "            verbrauch = sheet[f\"C{row}\"].value\n",
    "            if verbrauch is not None:\n",
    "                prozentwert = (verbrauch / gesamtverbrauch_kWh) * 100\n",
    "                sheet[f\"D{row}\"].value = prozentwert\n",
    "        \n",
    "        ###########################################################################################################\n",
    "        # Generierung der Datumswerte in 15-Minuten-Intervallen und Speichern in der Spalte \"Datum\"\n",
    "        ###########################################################################################################\n",
    "        \n",
    "        # Definieren des Start- und Enddatums\n",
    "        start_datum = datetime.strptime('2023-01-01 00:15', '%Y-%m-%d %H:%M')\n",
    "        end_datum = datetime.strptime('2024-01-01 00:00', '%Y-%m-%d %H:%M')\n",
    "        \n",
    "        # Liste für die Speicherung der Datumswerte in 15-Minuten-Intervallen\n",
    "        datumswerte = []\n",
    "        aktuelles_datum = start_datum\n",
    "        \n",
    "        # Generierung der Datumswerte in 15-Minuten-Intervallen\n",
    "        while aktuelles_datum <= end_datum:\n",
    "            datumswerte.append(aktuelles_datum)\n",
    "            aktuelles_datum += timedelta(minutes=15)\n",
    "        \n",
    "        # Einfügen der Datumswerte in die Spalte \"Datum\"\n",
    "        for idx, datum in enumerate(datumswerte, start=2):  # Beginnt ab Zeile 2\n",
    "            sheet[f\"A{idx}\"].value = datum\n",
    "        \n",
    "        ###########################################################################################################\n",
    "        # Weitere Formatierungen und Speichern der Excel-Datei\n",
    "        ###########################################################################################################\n",
    "        \n",
    "        # Entfernen der Fettschrift in den Zellen\n",
    "        sheet[\"A1\"].font = Font(bold=False)\n",
    "        sheet[\"B1\"].font = Font(bold=False)\n",
    "        sheet[\"C1\"].font = Font(bold=False)\n",
    "        \n",
    "        # Umbenennen des Arbeitsblatts\n",
    "        sheet.title = \"Simulationsparameter\"\n",
    "        \n",
    "        # Speichern der Änderungen im Ausgabe-Excel-Datei\n",
    "        workbook.save(output_path)\n",
    "        \n",
    "        print(\"- ETL-Prozess_Standardlastprofil: Aufgabe 1/1 erledigt\")\n",
    "    \n",
    "    except Exception as e:\n",
    "        print(f\"Ein Fehler ist aufgetreten: {e}\")"
   ]
  },
  {
   "cell_type": "code",
   "execution_count": 5,
   "id": "d2c13291",
   "metadata": {
    "scrolled": false
   },
   "outputs": [],
   "source": [
    "def run_ETL_Standardlastprofil():\n",
    "    extraction_and_processing_dataset_Stromnetz_Hamburg()"
   ]
  }
 ],
 "metadata": {
  "kernelspec": {
   "display_name": "Python 3 (ipykernel)",
   "language": "python",
   "name": "python3"
  },
  "language_info": {
   "codemirror_mode": {
    "name": "ipython",
    "version": 3
   },
   "file_extension": ".py",
   "mimetype": "text/x-python",
   "name": "python",
   "nbconvert_exporter": "python",
   "pygments_lexer": "ipython3",
   "version": "3.9.7"
  }
 },
 "nbformat": 4,
 "nbformat_minor": 5
}
