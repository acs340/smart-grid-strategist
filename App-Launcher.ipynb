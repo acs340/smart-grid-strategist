{
 "cells": [
  {
   "cell_type": "markdown",
   "id": "cf78baf6",
   "metadata": {},
   "source": [
    "# App-Launcher\n",
    "---\n",
    "Diese Komponente ist für den Start der SGS-Anwendung zuständig. Sie führt zunächst die ETL-Prozesse (Extrahieren, Transformieren, Laden) aus, bei denen Daten aus verschiedenen Quellen integriert werden, und lädt die Ergebnisse zur weiteren Verwendung in Simulationen und Analysen. Anschließend startet sie die Simulationsanwendung, die es dem Benutzer ermöglicht, Simulationen durchzuführen und dank der Diagramme detaillierte Informationen über den Stromverbrauch, die Energieerzeugung und die Energiepreise zu erhalten.\n",
    "Die Anwendung läuft auf http://localhost:8050."
   ]
  },
  {
   "cell_type": "code",
   "execution_count": null,
   "id": "5806d553",
   "metadata": {},
   "outputs": [],
   "source": [
    "# Zum Starten der Anwendung führen Sie diese Zelle aus.\n",
    "\n",
    "import os\n",
    "\n",
    "def run_etl_process():\n",
    "    if not os.path.exists(\"Output-Data/ETL-Prozess_Ergebnisse.xlsx\"):\n",
    "        %run \"ETL-Prozess/ETL_Standardlastprofil.ipynb\"\n",
    "        %run \"ETL-Prozess/ETL_PV-Ertrag.ipynb\"\n",
    "        %run \"ETL-Prozess/ETL_Stromboerse.ipynb\"\n",
    "        run_ETL_Standardlastprofil()\n",
    "        run_ETL_PV_Ertrag()\n",
    "        run_ETL_Stromboerse()\n",
    "\n",
    "def run_simulations_app():\n",
    "    %run \"Simulations-App/Simulations-App.ipynb\"\n",
    "    run_simulations_app()\n",
    "\n",
    "def main():\n",
    "    run_etl_process()\n",
    "    run_simulations_app()\n",
    "\n",
    "if __name__ == \"__main__\":\n",
    "    main()"
   ]
  }
 ],
 "metadata": {
  "kernelspec": {
   "display_name": "Python 3 (ipykernel)",
   "language": "python",
   "name": "python3"
  },
  "language_info": {
   "codemirror_mode": {
    "name": "ipython",
    "version": 3
   },
   "file_extension": ".py",
   "mimetype": "text/x-python",
   "name": "python",
   "nbconvert_exporter": "python",
   "pygments_lexer": "ipython3",
   "version": "3.9.7"
  }
 },
 "nbformat": 4,
 "nbformat_minor": 5
}
