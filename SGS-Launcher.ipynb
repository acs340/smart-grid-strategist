{
 "cells": [
  {
   "cell_type": "markdown",
   "id": "cf78baf6",
   "metadata": {},
   "source": [
    "# SGS-Launcher\n",
    "---\n",
    "Diese Komponente ist für den Start der SGS-Anwendung zuständig. Sie führt zunächst die ETL-Prozesse (Extrahieren, Transformieren, Laden) aus, bei denen Daten aus verschiedenen Quellen integriert werden, und lädt die Ergebnisse zur weiteren Verwendung in Simulationen und Analysen. Anschließend wird die Simulationsanwendung gestartet, die es dem Benutzer ermöglicht, Simulationen durchzuführen und anhand der Diagramme detaillierte Informationen über den Stromverbrauch, die Energieerzeugung und die Energiepreise zu erhalten. Die Anwendung läuft auf http://localhost:8050."
   ]
  },
  {
   "cell_type": "code",
   "execution_count": 5,
   "id": "23d82bac",
   "metadata": {},
   "outputs": [
    {
     "data": {
      "text/html": [
       "\n",
       "        <iframe\n",
       "            width=\"100%\"\n",
       "            height=\"650\"\n",
       "            src=\"http://127.0.0.1:8057/\"\n",
       "            frameborder=\"0\"\n",
       "            allowfullscreen\n",
       "            \n",
       "        ></iframe>\n",
       "        "
      ],
      "text/plain": [
       "<IPython.lib.display.IFrame at 0x7fc1109f9280>"
      ]
     },
     "metadata": {},
     "output_type": "display_data"
    }
   ],
   "source": [
    "# Zum Starten der Anwendung führen Sie diese Zelle aus.\n",
    "\n",
    "import os\n",
    "\n",
    "def run_etl_process():\n",
    "    if not os.path.exists(\"Output-Data/ETL-Prozess_Ergebnisse.xlsx\"):\n",
    "        %run \"SGS/ETL-Prozess/ETL_Standardlastprofil.ipynb\"\n",
    "        %run \"SGS/ETL-Prozess/ETL_PV-Ertrag.ipynb\"\n",
    "        %run \"SGS/ETL-Prozess/ETL_Stromboerse.ipynb\"\n",
    "        run_ETL_Standardlastprofil()\n",
    "        run_ETL_PV_Ertrag()\n",
    "        run_ETL_Stromboerse()\n",
    "\n",
    "def run_simulations_app():\n",
    "    %run \"SGS/Analyse/Analyse.ipynb\"\n",
    "    run_simulation()\n",
    "\n",
    "def sgs_launcher():\n",
    "    run_etl_process()\n",
    "    run_simulations_app()\n",
    "\n",
    "if __name__ == \"__main__\":\n",
    "    sgs_launcher()"
   ]
  },
  {
   "cell_type": "code",
   "execution_count": null,
   "id": "c1ead60d",
   "metadata": {},
   "outputs": [],
   "source": []
  }
 ],
 "metadata": {
  "kernelspec": {
   "display_name": "Python 3 (ipykernel)",
   "language": "python",
   "name": "python3"
  },
  "language_info": {
   "codemirror_mode": {
    "name": "ipython",
    "version": 3
   },
   "file_extension": ".py",
   "mimetype": "text/x-python",
   "name": "python",
   "nbconvert_exporter": "python",
   "pygments_lexer": "ipython3",
   "version": "3.9.7"
  }
 },
 "nbformat": 4,
 "nbformat_minor": 5
}
